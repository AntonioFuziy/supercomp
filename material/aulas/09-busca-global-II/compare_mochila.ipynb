{
 "cells": [
  {
   "cell_type": "code",
   "execution_count": 26,
   "metadata": {
    "tags": [
     "outputPrepend"
    ]
   },
   "outputs": [],
   "source": [
    "import subprocess\n",
    "import time\n",
    "import matplotlib.pyplot as plt\n",
    "\n",
    "busca_heuristica = \"./heuristica\"\n",
    "busca_local = './busca_local'\n",
    "busca_exaustiva = \"./busca_exaustiva\" "
   ]
  },
  {
   "cell_type": "code",
   "execution_count": 27,
   "metadata": {},
   "outputs": [],
   "source": [
    "def roda_com_entrada(executavel, arquivo_in):\n",
    "  with open(arquivo_in) as f:\n",
    "    start = time.perf_counter()\n",
    "    proc = subprocess.run([executavel], input=f.read(), text=True, capture_output=True)\n",
    "    end = time.perf_counter()\n",
    "\n",
    "    print('Saída:', proc.stdout)\n",
    "    print('Stderr:', proc.stderr)\n",
    "    print('Tempo total(s):', end - start)\n",
    "    f.close()\n",
    "  return((proc.stdout, end - start))"
   ]
  },
  {
   "cell_type": "code",
   "execution_count": 28,
   "metadata": {},
   "outputs": [
    {
     "name": "stdout",
     "output_type": "stream",
     "text": [
      "Saída: 149 98 0\n",
      "1 2 5 \n",
      "Stderr: \n",
      "Tempo total(s): 0.011513477999869792\n",
      "Saída: 52\n",
      "\n",
      "Stderr: \n",
      "Tempo total(s): 0.008950766999987536\n",
      "Saída: 171\n",
      "\n",
      "Stderr: \n",
      "Tempo total(s): 0.008908187999622896\n"
     ]
    }
   ],
   "source": [
    "# list_time_1 = list()\n",
    "# list_size_1 = list()\n",
    "result = roda_com_entrada(busca_heuristica,\"in-p01.txt\")\n",
    "# list_time_1.append(result[1])\n",
    "# with open(\"in-p01.txt\") as f:\n",
    "#   list_size_1.append(len(f.readlines())-1)\n",
    "\n",
    "# list_time_2 = list()\n",
    "# list_size_2 = list()\n",
    "result = roda_com_entrada(busca_local,\"in-p01.txt\")\n",
    "# list_time_2.append(result[1])\n",
    "# with open(\"in-p01.txt\") as f:\n",
    "#   list_size_2.append(len(f.readlines())-1)\n",
    "\n",
    "# list_time_3 = list()\n",
    "# list_size_3 = list()\n",
    "result = roda_com_entrada(busca_exaustiva,\"in-p01.txt\")\n",
    "# list_time_3.append(result[1])\n",
    "# with open(\"in-p01.txt\") as f:\n",
    "#   list_size_3.append(len(f.readlines())-1)\n",
    "\n",
    "# plt.plot(list_size_1,list_time_1)\n",
    "# plt.plot(list_size_2,list_time_2)\n",
    "# plt.plot(list_size_3,list_time_3)\n",
    "\n",
    "# print(list_size_1,list_time_1)\n",
    "# print(list_size_2,list_time_2)\n",
    "# print(list_size_3,list_time_3)\n",
    "# plt.xlabel(\"n\")\n",
    "# plt.ylabel(\"tempo(seg)\")\n",
    "# plt.show()"
   ]
  },
  {
   "cell_type": "code",
   "execution_count": null,
   "metadata": {},
   "outputs": [],
   "source": []
  }
 ],
 "metadata": {
  "kernelspec": {
   "display_name": "Python 3",
   "language": "python",
   "name": "python3"
  },
  "language_info": {
   "codemirror_mode": {
    "name": "ipython",
    "version": 3
   },
   "file_extension": ".py",
   "mimetype": "text/x-python",
   "name": "python",
   "nbconvert_exporter": "python",
   "pygments_lexer": "ipython3",
   "version": "3.8.10"
  }
 },
 "nbformat": 4,
 "nbformat_minor": 4
}
