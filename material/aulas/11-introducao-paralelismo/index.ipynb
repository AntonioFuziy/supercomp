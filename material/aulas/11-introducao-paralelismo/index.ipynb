{
 "cells": [
  {
   "cell_type": "markdown",
   "metadata": {},
   "source": [
    "# 11 - Introdução a Paralelismo\n",
    "\n",
    "## Comparação de implementações diferentes para o mesmo algoritmo\n",
    "\n",
    "Nossa aula se inicia examinando o efeito de uma implementação cuidadosa de um algoritmo no tempo de execução final. "
   ]
  },
  {
   "cell_type": "code",
   "execution_count": null,
   "metadata": {
    "tags": [
     "outputPrepend"
    ]
   },
   "outputs": [],
   "source": [
    "import subprocess\n",
    "import time\n",
    "\n",
    "with open('entradas-busca-local/in-10.txt') as f:\n",
    "    start = time.perf_counter()\n",
    "    proc = subprocess.run(['./busca-local'], input=f.read(), text=True, capture_output=True)\n",
    "    end = time.perf_counter()\n",
    "\n",
    "    print('Saída:', proc.stdout)\n",
    "    print('Stderr:', proc.stderr)\n",
    "    print('Tempo total(s):', end - start)"
   ]
  },
  {
   "source": [
    "Vamos agora praticar usar este snippet para executar nossos testes automaticamente. \n",
    "\n",
    "!!! example\n",
    "\n",
    "    Crie uma função `roda_com_entrada(executavel, arquivo_in)` que roda o primeiro argumento usando como entrada o conteúdo do segundo argumento. Teste seu código com o executável `busca-local` e com o arquivo de entrada `entrada-pequena.txt` presente na pasta da aula.\n",
    "\n",
    "    Sua função deverá devolver uma tupla `(stdout,time)` com `stdout` sendo a saída do programa e `time` seu tempo de execução em segundos. "
   ],
   "cell_type": "markdown",
   "metadata": {}
  },
  {
   "cell_type": "code",
   "execution_count": null,
   "metadata": {},
   "outputs": [],
   "source": []
  },
  {
   "source": [
    "Com esse código, vamos criar um relatório interativo que roda nossos testes automaticamente e já plota informações prontas para nossas análises. Vamos começar examinando o desempenho do executável `busca-local`.\n",
    "\n",
    "!!! example\n",
    "\n",
    "    Rode o `busca-local` com os arquivos de entrada na pasta `entradas-busca-local`. Guarde os tempos em uma lista.\n",
    "\n",
    "!!! example\n",
    "\n",
    "    Leia o tamanho das entradas dos arquivos  na pasta `entradas-busca-local` e guarde em uma segunda lista.\n",
    "\n",
    "!!! example \n",
    "\n",
    "    Plote o tempo de execução pelo tamanho da entrada usando `matplotlib`"
   ],
   "cell_type": "markdown",
   "metadata": {}
  },
  {
   "source": [
    "# sua resposta aqui"
   ],
   "cell_type": "code",
   "metadata": {},
   "execution_count": null,
   "outputs": []
  },
  {
   "source": [
    "O arquivo `busca-local` contém uma implementação cuidadosa da busca local do projeto. Ele não contém nenhuma técnica diferente das apresentadas em aula, mas evita ao máximo operações desnecessárias. Vamos agora comparar os resultados obtidos por ele com sua implementação.\n",
    "\n",
    "!!! example\n",
    "\n",
    "    Rode seu a busca local de seu projeto com as mesmas entradas acima e plote os tempos de ambos no mesmo gráfico. Não se esqueça de colocar legendas e título!"
   ],
   "cell_type": "markdown",
   "metadata": {}
  },
  {
   "cell_type": "code",
   "execution_count": null,
   "metadata": {},
   "outputs": [],
   "source": [
    "# seu código aqui"
   ]
  },
  {
   "source": [
    "!!! question medium\n",
    "\n",
    "    Interprete o gráfico que você gerou na linha de cima. Existe diferença entre o tempo gasto pelas duas implementações?\n",
    "\n",
    "Até agora só testamos eficiência, mas poderia ser interessante testar também a qualidade da solução produzida. \n",
    "\n",
    "!!! question short\n",
    "    Em qual situação você entende que comparar a qualidade da solução produzida é válido? Como você faria essa comparação? Responda levando em conta\n",
    "\n",
    "    * tamanho das entradas usadas\n",
    "    * quantidade de execuções para cada arquivo de entrada\n",
    "    * quantidade de arquivos para cada tamanho de entrada."
   ],
   "cell_type": "markdown",
   "metadata": {}
  },
  {
   "source": [
    "\n",
    "## Expectativas de ganhos com paralelismo\n",
    "\n",
    "\n",
    "Agora que já conseguimos comparar implementações de um mesmo algoritmo básico, vamos relembrar os tipos de paralelismo vistos em aula:\n",
    "\n",
    "!!! tip \"Tipos de paralelismo\"\n",
    "\n",
    "    **Dados**: operação (lenta) é feita em paralelo para cada elemento de um conjunto de dados.\n",
    "\n",
    "    **Tarefas**: tarefas não dependentes entre si são executadas em paralelo.\n",
    "    \n",
    "Já vimos em aula que a busca exaustiva é um problema que deveria ser facilmente paralelizável, já que não possui dependência entre as escolhas de um nível da recursão. \n",
    "\n",
    "!!! example\n",
    "\n",
    "    Meça o tempo da busca exaustiva do seu projeto para as entradas da pasta `entradas-busca-exaustiva`. Salve em uma lista. \n",
    "\n",
    "!!! example\n",
    "\n",
    "    Supondo que sua máquina de testes tenha **8 cores**, qual seria o tempo gasto para cada uma das entradas acima? Salve estes valores em uma nova lista.\n",
    "\n",
    "!!! example\n",
    "\n",
    "    Plote abaixo o tempo real do algoritmo sequencial e o tempo esperado do seu projeto se ele fosse paralelizado.     \n"
   ],
   "cell_type": "markdown",
   "metadata": {}
  },
  {
   "source": [
    "# seu código aqui"
   ],
   "cell_type": "code",
   "metadata": {},
   "execution_count": null,
   "outputs": []
  },
  {
   "source": [
    "Vamos agora verificar se essa intuição se mantém para uma implementação cuidadosa do algoritmo de busca exaustiva e para uma paralelização bem feita. Os arquivos `busca-exaustiva` e `busca-exaustiva-par` contém essas implementações. \n",
    "\n",
    "!!! example\n",
    "\n",
    "    Execute ambos para as entradas da pasta `entradas-busca-exaustiva` e plote os tempos abaixo. \n",
    "\n",
    "!!! question short\n",
    "    As expectativas que você escreveu na pergunta anterior foram confirmadas? Como você avaliou isso?"
   ],
   "cell_type": "markdown",
   "metadata": {}
  },
  {
   "cell_type": "code",
   "execution_count": null,
   "metadata": {},
   "outputs": [],
   "source": []
  },
  {
   "source": [
    "Houve grandes ganhos de desempenho, mas eles não são exatamente proporcionais ao número de processadores. Isso é normal, já que existe um custo em levantar o ambiente paralelizado. Vamos agora complicar um pouco.\n",
    "\n",
    "!!! example\n",
    "\n",
    "    O arquivo `busca-branch-and-bound` possui uma implementação sequencial de um bound razoável para o caixeiro viajante. Compare-o com `busca-exaustiva-par`. \n",
    "\n",
    "!!! question short\n",
    "    \n",
    "    Quais foram os resultados da comparação? "
   ],
   "cell_type": "markdown",
   "metadata": {}
  },
  {
   "cell_type": "code",
   "execution_count": null,
   "metadata": {},
   "outputs": [],
   "source": []
  },
  {
   "source": [
    "### Número de cores importa?\n",
    "\n",
    "Vamos agora finalizar nosso estudo verificando se o número de *cores* afeta linearmente o desempenho. \n",
    "\n",
    "!!! tip \n",
    "    \n",
    "    Para configurar o número de cores usados em `busca-exaustiva-par` usamos a *variável de ambiente* `OMP_NUM_THREADS`\n",
    "\n",
    "!!! example\n",
    "\n",
    "    Rode no terminal `OMP_NUM_THREADS=2 ./busca-exaustiva-paralela < in-6.txt` e verifique o consumo de CPU com `htop`.\n",
    "\n",
    "    Varia o número de CPUS usadas e verifique com `htop` que  a preferência foi respeitada.\n",
    "\n",
    "!!! question short\n",
    "    Como você usaria o parâmetro `env` de `subprocess.run` para configurar o número de CPUs?\n",
    "\n",
    "!!! example\n",
    "\n",
    "    Faça um experimento com `in-6.txt` variando o número de CPUs de `1` até `8` e plote os resultados. \n",
    "\n",
    "!!! question short \n",
    "\n",
    "    Mais cores sempre ajudam? Como você avalia isto? E se o tamanho do problema for maior? Relacione número de cores, tamanho da entrada e desempenho."
   ],
   "cell_type": "markdown",
   "metadata": {}
  }
 ],
 "metadata": {
  "kernelspec": {
   "display_name": "Python 3.8.0 64-bit ('base': venv)",
   "language": "python",
   "name": "python38064bitbasevenv7268d19e69474fa5afca7116162bf8d2"
  },
  "language_info": {
   "codemirror_mode": {
    "name": "ipython",
    "version": 3
   },
   "file_extension": ".py",
   "mimetype": "text/x-python",
   "name": "python",
   "nbconvert_exporter": "python",
   "pygments_lexer": "ipython3",
   "version": "3.8.0-final"
  }
 },
 "nbformat": 4,
 "nbformat_minor": 4
}